{
 "cells": [
  {
   "cell_type": "markdown",
   "id": "3bedc47d-8679-4853-b8ad-e5952b9fe309",
   "metadata": {
    "jp-MarkdownHeadingCollapsed": true
   },
   "source": [
    "### Imports to test the conda environment"
   ]
  },
  {
   "cell_type": "code",
   "execution_count": 1,
   "id": "5b71ba2d-43f5-4afa-8a49-2edeb4c41515",
   "metadata": {},
   "outputs": [],
   "source": [
    "import torch\n",
    "import numpy as np\n",
    "import pandas as pd\n",
    "import sklearn\n",
    "import matplotlib.pyplot as plt"
   ]
  },
  {
   "cell_type": "code",
   "execution_count": 2,
   "id": "eb5a3447-7af9-466f-95a1-560092aefd1e",
   "metadata": {},
   "outputs": [
    {
     "data": {
      "text/plain": [
       "True"
      ]
     },
     "execution_count": 2,
     "metadata": {},
     "output_type": "execute_result"
    }
   ],
   "source": [
    "torch.backends.mps.is_available()"
   ]
  },
  {
   "cell_type": "markdown",
   "id": "70c1fa4d-02bb-4d07-b43d-51c1a607ea1a",
   "metadata": {},
   "source": [
    "### Using MPS (Metal Performance Shaders) for utilizing Mac GPU\n",
    "#### Note that the code in this section is specifically for checking whether it is running  "
   ]
  },
  {
   "cell_type": "code",
   "execution_count": 3,
   "id": "e67a49dc-b114-4bfd-bb6f-063765e6c941",
   "metadata": {},
   "outputs": [
    {
     "name": "stdout",
     "output_type": "stream",
     "text": [
      "Metal Performance Shaders are available for this system and we are using it to improve performance!\n"
     ]
    }
   ],
   "source": [
    "if torch.backends.mps.is_available():\n",
    "    print(\"Metal Performance Shaders are available for this system and we are using it to improve performance!\")\n",
    "else:\n",
    "    print(\"Oops! Metal Performance Shaders aren't available!\")"
   ]
  },
  {
   "cell_type": "code",
   "execution_count": 4,
   "id": "514d61c2-a146-406c-a455-936197f22d0c",
   "metadata": {},
   "outputs": [
    {
     "name": "stdout",
     "output_type": "stream",
     "text": [
      "Is MPS built? True\n"
     ]
    }
   ],
   "source": [
    "print(f\"Is MPS built? {torch.backends.mps.is_built()}\")"
   ]
  },
  {
   "cell_type": "code",
   "execution_count": 5,
   "id": "16a72ccd-4db6-4aad-8bc9-e5cf61826550",
   "metadata": {},
   "outputs": [
    {
     "name": "stdout",
     "output_type": "stream",
     "text": [
      "Is MPS available? True\n"
     ]
    }
   ],
   "source": [
    "print(f\"Is MPS available? {torch.backends.mps.is_available()}\")"
   ]
  },
  {
   "cell_type": "code",
   "execution_count": 6,
   "id": "80132e7a-337f-4c92-b83b-09fec46d4802",
   "metadata": {},
   "outputs": [
    {
     "name": "stdout",
     "output_type": "stream",
     "text": [
      "Using mps\n"
     ]
    }
   ],
   "source": [
    "device = \"mps\" if torch.backends.mps.is_available() else \"cpu\"\n",
    "print(f\"Using {device}\")"
   ]
  },
  {
   "cell_type": "code",
   "execution_count": 7,
   "id": "6f85f3ed-2f3a-4a12-9c4d-c94f12f188b4",
   "metadata": {},
   "outputs": [],
   "source": [
    "x = torch.rand(size=(3,4)).to(device)"
   ]
  },
  {
   "cell_type": "code",
   "execution_count": 8,
   "id": "8f3a34fd-b20d-4740-89b3-2e696003d4fc",
   "metadata": {},
   "outputs": [
    {
     "data": {
      "text/plain": [
       "tensor([[0.5600, 0.9395, 0.2347, 0.5851],\n",
       "        [0.0945, 0.3636, 0.3196, 0.0456],\n",
       "        [0.6396, 0.2068, 0.5403, 0.0642]], device='mps:0')"
      ]
     },
     "execution_count": 8,
     "metadata": {},
     "output_type": "execute_result"
    }
   ],
   "source": [
    "x"
   ]
  },
  {
   "cell_type": "markdown",
   "id": "3d54281c-05ee-4e0a-a708-1fd21ca00621",
   "metadata": {
    "jp-MarkdownHeadingCollapsed": true
   },
   "source": [
    "### Creating Scalars and Vectors"
   ]
  },
  {
   "cell_type": "code",
   "execution_count": 10,
   "id": "3124d583-da59-4ea2-a340-871f841031e4",
   "metadata": {},
   "outputs": [
    {
     "data": {
      "text/plain": [
       "tensor(7)"
      ]
     },
     "execution_count": 10,
     "metadata": {},
     "output_type": "execute_result"
    }
   ],
   "source": [
    "scalar = torch.tensor(7)\n",
    "scalar"
   ]
  },
  {
   "cell_type": "code",
   "execution_count": 11,
   "id": "dfeb720d-b149-46f8-af18-40b79a6233fe",
   "metadata": {},
   "outputs": [
    {
     "data": {
      "text/plain": [
       "0"
      ]
     },
     "execution_count": 11,
     "metadata": {},
     "output_type": "execute_result"
    }
   ],
   "source": [
    "scalar.ndim"
   ]
  },
  {
   "cell_type": "code",
   "execution_count": 12,
   "id": "7408f3fc-797e-4525-9e0b-0ab50635caa2",
   "metadata": {},
   "outputs": [
    {
     "data": {
      "text/plain": [
       "7"
      ]
     },
     "execution_count": 12,
     "metadata": {},
     "output_type": "execute_result"
    }
   ],
   "source": [
    "# Get tensor back as Python int\n",
    "scalar.item()"
   ]
  },
  {
   "cell_type": "code",
   "execution_count": 13,
   "id": "f7170dc7-f725-49a0-bf1d-3634245785c6",
   "metadata": {},
   "outputs": [
    {
     "data": {
      "text/plain": [
       "tensor([7, 7])"
      ]
     },
     "execution_count": 13,
     "metadata": {},
     "output_type": "execute_result"
    }
   ],
   "source": [
    "vector = torch.tensor([7,7])\n",
    "vector"
   ]
  },
  {
   "cell_type": "code",
   "execution_count": 14,
   "id": "77dc644d-5b08-4416-8b55-3528cc343811",
   "metadata": {},
   "outputs": [
    {
     "data": {
      "text/plain": [
       "1"
      ]
     },
     "execution_count": 14,
     "metadata": {},
     "output_type": "execute_result"
    }
   ],
   "source": [
    "vector.ndim"
   ]
  },
  {
   "cell_type": "code",
   "execution_count": 15,
   "id": "bd29d7ba-f3cf-499e-89d9-df0bab22e4fb",
   "metadata": {},
   "outputs": [
    {
     "data": {
      "text/plain": [
       "torch.Size([2])"
      ]
     },
     "execution_count": 15,
     "metadata": {},
     "output_type": "execute_result"
    }
   ],
   "source": [
    "vector.shape"
   ]
  },
  {
   "cell_type": "markdown",
   "id": "09d0918d-4e66-45aa-ae2f-9f2264a3053c",
   "metadata": {
    "jp-MarkdownHeadingCollapsed": true
   },
   "source": [
    "### Creating MATRIX and TENSOR"
   ]
  },
  {
   "cell_type": "code",
   "execution_count": 27,
   "id": "fe4da4ea-d688-4305-a741-73e431d60472",
   "metadata": {},
   "outputs": [
    {
     "data": {
      "text/plain": [
       "tensor([[ 7,  8],\n",
       "        [ 9, 10]])"
      ]
     },
     "execution_count": 27,
     "metadata": {},
     "output_type": "execute_result"
    }
   ],
   "source": [
    "# Matrix\n",
    "MATRIX = torch.tensor([[7, 8],\n",
    "                       [9, 10]])\n",
    "MATRIX"
   ]
  },
  {
   "cell_type": "code",
   "execution_count": 28,
   "id": "f445a069-fb86-44e4-a249-2ee703a853d5",
   "metadata": {},
   "outputs": [
    {
     "data": {
      "text/plain": [
       "(2, torch.Size([2, 2]))"
      ]
     },
     "execution_count": 28,
     "metadata": {},
     "output_type": "execute_result"
    }
   ],
   "source": [
    "MATRIX.ndim, MATRIX.shape"
   ]
  },
  {
   "cell_type": "code",
   "execution_count": 30,
   "id": "0cb3bc2c-19cb-48fe-bc84-baa5895974ae",
   "metadata": {},
   "outputs": [
    {
     "data": {
      "text/plain": [
       "tensor([[[ 1,  2,  3],\n",
       "         [ 3,  6,  9],\n",
       "         [ 2,  4, 56]]])"
      ]
     },
     "execution_count": 30,
     "metadata": {},
     "output_type": "execute_result"
    }
   ],
   "source": [
    "# Tensors\n",
    "TENSOR = torch.tensor([[[1, 2, 3],\n",
    "                       [3, 6, 9],\n",
    "                       [2, 4, 56]]])\n",
    "TENSOR"
   ]
  },
  {
   "cell_type": "code",
   "execution_count": 31,
   "id": "ea1e9348-6061-43d2-bee9-b25cbe3243b7",
   "metadata": {},
   "outputs": [
    {
     "data": {
      "text/plain": [
       "(3, torch.Size([1, 3, 3]))"
      ]
     },
     "execution_count": 31,
     "metadata": {},
     "output_type": "execute_result"
    }
   ],
   "source": [
    "TENSOR.ndim, TENSOR.shape"
   ]
  },
  {
   "cell_type": "code",
   "execution_count": 32,
   "id": "5f36c0cb-3dfe-4afc-a66e-629d8f8c026f",
   "metadata": {},
   "outputs": [
    {
     "data": {
      "text/plain": [
       "(tensor([[ 1,  2,  3],\n",
       "         [ 3,  6,  9],\n",
       "         [ 2,  4, 56]]),\n",
       " tensor([3, 6, 9]))"
      ]
     },
     "execution_count": 32,
     "metadata": {},
     "output_type": "execute_result"
    }
   ],
   "source": [
    "TENSOR[0], TENSOR[0][1]"
   ]
  },
  {
   "cell_type": "code",
   "execution_count": 33,
   "id": "8eeae132-f652-4068-99d2-341afcd931ef",
   "metadata": {},
   "outputs": [
    {
     "data": {
      "text/plain": [
       "tensor(1)"
      ]
     },
     "execution_count": 33,
     "metadata": {},
     "output_type": "execute_result"
    }
   ],
   "source": [
    "TENSOR[0][0][0]"
   ]
  },
  {
   "cell_type": "code",
   "execution_count": 34,
   "id": "520303f9-5551-4438-8a59-ad277d93de18",
   "metadata": {},
   "outputs": [
    {
     "data": {
      "text/plain": [
       "tensor(2)"
      ]
     },
     "execution_count": 34,
     "metadata": {},
     "output_type": "execute_result"
    }
   ],
   "source": [
    "TENSOR[0][0][1]"
   ]
  },
  {
   "cell_type": "markdown",
   "id": "b98c8631-2086-4c46-8031-b302dac0c6d2",
   "metadata": {},
   "source": [
    "### Creating Random Tensors\n",
    "#### Why random tensors?\n",
    "- Random tensors are important because the way many neural networks learn is that they start with tensors full of random numbers and then adjust those random numbers to better represent the data\n",
    "- `Start with random nos => look at data => update the random nos => look at data => update the random nos ...`"
   ]
  },
  {
   "cell_type": "code",
   "execution_count": null,
   "id": "8303381c-da52-43a3-ad15-5a6e88914f58",
   "metadata": {},
   "outputs": [],
   "source": [
    "# Create a random tensor\n",
    "# 1:39:31"
   ]
  },
  {
   "cell_type": "code",
   "execution_count": null,
   "id": "958dd31d-8f95-404c-b419-71aa30c0ce05",
   "metadata": {},
   "outputs": [],
   "source": []
  }
 ],
 "metadata": {
  "kernelspec": {
   "display_name": "Python 3 (ipykernel)",
   "language": "python",
   "name": "python3"
  },
  "language_info": {
   "codemirror_mode": {
    "name": "ipython",
    "version": 3
   },
   "file_extension": ".py",
   "mimetype": "text/x-python",
   "name": "python",
   "nbconvert_exporter": "python",
   "pygments_lexer": "ipython3",
   "version": "3.12.4"
  }
 },
 "nbformat": 4,
 "nbformat_minor": 5
}
