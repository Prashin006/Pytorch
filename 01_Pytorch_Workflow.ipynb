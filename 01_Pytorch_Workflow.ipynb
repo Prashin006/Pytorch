{
 "cells": [
  {
   "cell_type": "markdown",
   "id": "a8bbd52b-fc7d-4dc6-8a4b-99ad560c33ef",
   "metadata": {},
   "source": [
    "### Pytorch Workflow\n",
    "Let's examine an end-to-end Pytorch workflow"
   ]
  },
  {
   "cell_type": "code",
   "execution_count": 1,
   "id": "7270340a-1b04-423d-8484-de95ff066861",
   "metadata": {},
   "outputs": [
    {
     "data": {
      "text/plain": [
       "'2.4.1'"
      ]
     },
     "execution_count": 1,
     "metadata": {},
     "output_type": "execute_result"
    }
   ],
   "source": [
    "import torch\n",
    "from torch import nn  # nn contains all of the Pytorch's building blocks for neural networks\n",
    "import numpy as np\n",
    "import pandas as pd\n",
    "import matplotlib.pyplot as plt\n",
    "torch.__version__"
   ]
  },
  {
   "cell_type": "code",
   "execution_count": 2,
   "id": "5847240a-ef8d-4899-a019-ced594598ce8",
   "metadata": {},
   "outputs": [
    {
     "data": {
      "text/plain": [
       "{1: 'data (prepare and load)',\n",
       " 2: 'build model',\n",
       " 3: 'fitting the model to data (training)',\n",
       " 4: 'making predictions and evaluating the model (inference)',\n",
       " 5: 'saving and loading model',\n",
       " 6: 'putting it all together'}"
      ]
     },
     "execution_count": 2,
     "metadata": {},
     "output_type": "execute_result"
    }
   ],
   "source": [
    "what_were_covering = { 1: \"data (prepare and load)\",\n",
    "                       2: \"build model\",\n",
    "                       3: \"fitting the model to data (training)\",\n",
    "                       4: \"making predictions and evaluating the model (inference)\",\n",
    "                       5: \"saving and loading model\",\n",
    "                       6: \"putting it all together\"\n",
    "                     }\n",
    "what_were_covering"
   ]
  },
  {
   "cell_type": "markdown",
   "id": "22c0495c-cdf6-4781-b593-e9fba11dc575",
   "metadata": {},
   "source": [
    "### Data (preparing and loading)\n",
    "Data can be almost anything... in Machine Learning <br />\n",
    "- Excel spreadsheet\n",
    "- Images of any kind\n",
    "- Videos (YouTube has a lot of data)\n",
    "- Audio like songs or podcasts\n",
    "- DNA\n",
    "- Text<br />\n",
    "\n",
    "\n",
    "Machine Learning is a game of two parts:\n",
    "1. Get data into a numerical representation\n",
    "2. Build a model to learn patterns in that numerical representation\n",
    "\n",
    "To showcase this, let's create some *known* data using the linear regression formula <br />\n",
    "We'll use linear regression formula to make a straight line with *known* **parameters** "
   ]
  },
  {
   "cell_type": "code",
   "execution_count": 3,
   "id": "0db12718-eb82-4fa6-87a9-93c6d89c6320",
   "metadata": {},
   "outputs": [
    {
     "data": {
      "text/plain": [
       "(tensor([[0.0000],\n",
       "         [0.0200],\n",
       "         [0.0400],\n",
       "         [0.0600],\n",
       "         [0.0800],\n",
       "         [0.1000],\n",
       "         [0.1200],\n",
       "         [0.1400],\n",
       "         [0.1600],\n",
       "         [0.1800]]),\n",
       " tensor([[0.3000],\n",
       "         [0.3140],\n",
       "         [0.3280],\n",
       "         [0.3420],\n",
       "         [0.3560],\n",
       "         [0.3700],\n",
       "         [0.3840],\n",
       "         [0.3980],\n",
       "         [0.4120],\n",
       "         [0.4260]]),\n",
       " 50,\n",
       " 50)"
      ]
     },
     "execution_count": 3,
     "metadata": {},
     "output_type": "execute_result"
    }
   ],
   "source": [
    "# Create known parameters\n",
    "weight = 0.7\n",
    "bias = 0.3\n",
    "\n",
    "start = 0\n",
    "end = 1\n",
    "step = 0.02\n",
    "X = torch.arange(start, end, step).unsqueeze(dim=1)\n",
    "y = weight * X + bias\n",
    "\n",
    "X[:10], y[:10], len(X), len(y)"
   ]
  },
  {
   "cell_type": "markdown",
   "id": "32d5cc94-2d4a-41e8-9f33-2bf8ac5ec9fd",
   "metadata": {},
   "source": [
    "### Splitting Data into training and test sets (one of the most important concepts in machine learning in general)\n",
    "Let's create a train and test set for our data"
   ]
  },
  {
   "cell_type": "code",
   "execution_count": 4,
   "id": "2959cebd-e4c5-4c95-9744-351b121200ef",
   "metadata": {},
   "outputs": [
    {
     "data": {
      "text/plain": [
       "(40, 40, 10, 10)"
      ]
     },
     "execution_count": 4,
     "metadata": {},
     "output_type": "execute_result"
    }
   ],
   "source": [
    "# Create a train/test split\n",
    "train_split = int(0.8 * len(X))\n",
    "X_train, y_train = X[:train_split], y[:train_split]\n",
    "X_test, y_test = X[train_split:], y[train_split:]\n",
    "\n",
    "len(X_train), len(y_train), len(X_test), len(y_test)"
   ]
  },
  {
   "cell_type": "markdown",
   "id": "97e4658d-b25a-455c-b64f-d25d9bb2d291",
   "metadata": {},
   "source": [
    "How might we visualize our Data? <br />\n",
    "Here is where the Data Exploration comes into picture <br />\n",
    "\"Visualize, Outline and Code\"!"
   ]
  },
  {
   "cell_type": "code",
   "execution_count": 5,
   "id": "a8de1331-27fa-4696-bb3b-599fe6c17d0b",
   "metadata": {},
   "outputs": [],
   "source": [
    "def plot_predictions(train_data=X_train,\n",
    "                     train_labels=y_train,\n",
    "                     test_data=X_test,\n",
    "                     test_labels=y_test,\n",
    "                     predictions=None):\n",
    "    \"\"\"\n",
    "    Plots training data, test data and compares predictions.\n",
    "    \"\"\"\n",
    "    plt.figure(figsize=(10, 7))\n",
    "    \n",
    "    # Plot training data in blue\n",
    "    plt.scatter(train_data, train_labels, c=\"b\", s=6, label=\"Training Data\")\n",
    "\n",
    "    # Plot test data in green\n",
    "    plt.scatter(test_data, test_labels, c=\"g\", s=6, label=\"Test Data\")\n",
    "\n",
    "    # Are there predictions?\n",
    "    if predictions is not None:\n",
    "        # Plot the predictions \n",
    "        plt.scatter(test_data, predictions, c=\"r\", s=6, label=\"Predictions\")\n",
    "\n",
    "    # Show the legend\n",
    "    plt.legend(prop={\"size\": 14})"
   ]
  },
  {
   "cell_type": "code",
   "execution_count": 6,
   "id": "959e80c6-6849-430b-9b60-d1fe30ac9c84",
   "metadata": {},
   "outputs": [
    {
     "data": {
      "image/png": "[encoded data removed]",
      "text/plain": [
       "<Figure size 1000x700 with 1 Axes>"
      ]
     },
     "metadata": {},
     "output_type": "display_data"
    }
   ],
   "source": [
    "plot_predictions()"
   ]
  },
  {
   "cell_type": "markdown",
   "id": "e1d6d82d-3dd7-4109-9567-04edebc1d267",
   "metadata": {},
   "source": [
    "### Building a model \n",
    "Our first Pytorch model! <br />\n",
    "This is very exciting... let's do it! <br />\n",
    "What our model does:\n",
    "- Start with random values of *weights* and *bias*\n",
    "- Look at training data and adjust the random values of *weights* and *bias* to better represent (or get closer to) the ideal values (the weights and bias we used to create the data)\n",
    "\n",
    "How does it do so?\n",
    "\n",
    "Through two main algorithms:\n",
    "1. Gradient descent\n",
    "2. Backpropagation"
   ]
  },
  {
   "cell_type": "code",
   "execution_count": 7,
   "id": "d1879d19-1083-4114-9d4e-a710c17cc210",
   "metadata": {},
   "outputs": [],
   "source": [
    "# Create a linear regression class\n",
    "class LinearRegressionModel(nn.Module):  # almost everything in Pytorch inherits from nn.Module \n",
    "    def __init__(self):\n",
    "        super().__init__()\n",
    "        self.weights = nn.Parameter(torch.randn(1,  # start with random weights and try to adjust to ideal weights\n",
    "                                                requires_grad=True,  # can this parameter be updated via gradient descent? True\n",
    "                                                dtype=torch.float))  # Pytorch loves the datatype torch.float32\n",
    "        self.bias = nn.Parameter(torch.randn(1,  # start with a random bias and try to adjust to the ideal bias\n",
    "                                             requires_grad=True,  # can this parameter be updated via gradient descent? True\n",
    "                                             dtype=torch.float))  # Pytorch loves the datatype torch.float32\n",
    "    # Forward method to define the computation in the model\n",
    "    def forward(self, x: torch.Tensor) -> torch.Tensor:  # \"x\" is the input data\n",
    "        return self.weights * x + self.bias  # this is the linear regression formula"
   ]
  },
  {
   "cell_type": "markdown",
   "id": "4859df59-e27f-40f6-a667-41de1d07f78c",
   "metadata": {},
   "source": [
    "### Pytorch model building essentials\n",
    "* `torch.nn` - contains all of the building blocks for computational graphs (a neural network can be considered a computational graph)\n",
    "* `torch.nn.Parameter` - what parameters should our model try and learn, often a Pytorch layer from `torch.nn` will set these for us\n",
    "* `torch.nn.Module` - The base class for all neural network modules, if we subclass it, we must overwrite the **forward()** method\n",
    "* `torch.optim` - this is where the optimizers in Pytorch live, they will help with gradient descent\n",
    "* `def forward():` - All `nn.Module` subclasses require us to overwrite this method. It defines what happens in the forward computation"
   ]
  },
  {
   "cell_type": "markdown",
   "id": "41fd265a-109e-41ba-98cd-5ea530a17bdc",
   "metadata": {},
   "source": [
    "### Checking the contents of our Pytorch model\n",
    "Now we've created our first Pytorch model, let's see what's inside it... <br />\n",
    "So we can check our model parameters or what's inside the model using `.parameters()`."
   ]
  },
  {
   "cell_type": "code",
   "execution_count": 30,
   "id": "5d2ce811-70ee-4aae-b2b5-58aedb8a9ac6",
   "metadata": {},
   "outputs": [
    {
     "data": {
      "text/plain": [
       "[Parameter containing:\n",
       " tensor([0.3367], requires_grad=True),\n",
       " Parameter containing:\n",
       " tensor([0.1288], requires_grad=True)]"
      ]
     },
     "execution_count": 30,
     "metadata": {},
     "output_type": "execute_result"
    }
   ],
   "source": [
    "# Create a random seed\n",
    "torch.manual_seed(42)\n",
    "\n",
    "# Create an instance of the model (this is a subclass of the nn.Module)\n",
    "model_0 = LinearRegressionModel()\n",
    "\n",
    "# Check out the parameters\n",
    "# model_0, model_0.parameters()\n",
    "list(model_0.parameters())"
   ]
  },
  {
   "cell_type": "code",
   "execution_count": 31,
   "id": "c5f4c1a0-34bc-4a8b-9760-feac555361fd",
   "metadata": {},
   "outputs": [
    {
     "data": {
      "text/plain": [
       "OrderedDict([('weights', tensor([0.3367])), ('bias', tensor([0.1288]))])"
      ]
     },
     "execution_count": 31,
     "metadata": {},
     "output_type": "execute_result"
    }
   ],
   "source": [
    "# List named parameters (a parameter is a value that the model sets itself)\n",
    "model_0.state_dict()"
   ]
  },
  {
   "cell_type": "code",
   "execution_count": 10,
   "id": "fbd36185-8f7a-4bc9-a98e-779976df7acb",
   "metadata": {},
   "outputs": [
    {
     "data": {
      "text/plain": [
       "(0.7, 0.3)"
      ]
     },
     "execution_count": 10,
     "metadata": {},
     "output_type": "execute_result"
    }
   ],
   "source": [
    "weight, bias"
   ]
  },
  {
   "cell_type": "markdown",
   "id": "b08e3948-ea25-4ba3-80d3-2db5ef5216a4",
   "metadata": {},
   "source": [
    "### Making prediction using `torch.inference_mode()`\n",
    "To check our model's predictive power, let's see how well it predicts `y_test` based on `X_test` <br />\n",
    "When we pass data through our model, it's going to run it through the `forward()` method"
   ]
  },
  {
   "cell_type": "code",
   "execution_count": 32,
   "id": "1fd67e61-12a5-47d8-b2a8-f491c24c6fe1",
   "metadata": {},
   "outputs": [
    {
     "data": {
      "text/plain": [
       "tensor([[0.3982],\n",
       "        [0.4049],\n",
       "        [0.4116],\n",
       "        [0.4184],\n",
       "        [0.4251],\n",
       "        [0.4318],\n",
       "        [0.4386],\n",
       "        [0.4453],\n",
       "        [0.4520],\n",
       "        [0.4588]])"
      ]
     },
     "execution_count": 32,
     "metadata": {},
     "output_type": "execute_result"
    }
   ],
   "source": [
    "# Make predictions with the model\n",
    "# with torch.inference_mode():\n",
    "#     y_pred = model_0(X_test)\n",
    "\n",
    "# We can also do something similar with torch.no_grad(), however, inference_mode() is preferred\n",
    "with torch.no_grad():\n",
    "    y_pred = model_0(X_test)\n",
    "y_pred"
   ]
  },
  {
   "cell_type": "code",
   "execution_count": 33,
   "id": "336b4294-6661-4db1-992c-58df3e1d7205",
   "metadata": {},
   "outputs": [
    {
     "name": "stdout",
     "output_type": "stream",
     "text": [
      "The mean squared error is 2.45\n"
     ]
    }
   ],
   "source": [
    "# Calculating the loss MSE\n",
    "mse = (y_test - y_pred) ** 2\n",
    "sum = 0\n",
    "for item in mse.squeeze():\n",
    "    sum += item\n",
    "print(f\"The mean squared error is {sum:.2f}\")"
   ]
  },
  {
   "cell_type": "code",
   "execution_count": 34,
   "id": "c2503fd3-6bae-4494-abf3-c34a4d32e1e7",
   "metadata": {},
   "outputs": [
    {
     "data": {
      "image/png": "[encoded data removed]",
      "text/plain": [
       "<Figure size 1000x700 with 1 Axes>"
      ]
     },
     "metadata": {},
     "output_type": "display_data"
    }
   ],
   "source": [
    "plot_predictions(predictions=y_pred)"
   ]
  },
  {
   "cell_type": "markdown",
   "id": "85c18bab-b2be-49d0-8051-1c692d059fe2",
   "metadata": {},
   "source": [
    "### Train model\n",
    "The whole idea of training is for a model to move from some *unknown* parameters (these may be random) to some *known* parameters. <br />\n",
    "Or in other words from a poor representation of the data to a better representation of the data. <br />\n",
    "One way to measure how poor or how wrong our model's predictions are is to use a loss function. <br />\n",
    "* Note: Loss function may also be called as cost function or criterion in different areas. For our case, we are going to refer to it as loss function <br />\n",
    "Things we need to train our model: <br />\n",
    "* **Loss Function:** A function to measure how wrong our model's predictions are to the ideal outputs. Lower is better.\n",
    "* **Optimizer:** Takes into account the loss of a model and adjusts the model's parameters (weight and bias in our case) to improve the loss function.\n",
    "  - Inside the optimizer we'll often have to set up two parameters:\n",
    "    1. `params` - the model parameters we want to optimize, for example `params=model_0.parameters()`\n",
    "    2. `lr` (learning rate) - the learning rate is a hyperparameter that defines how big/small the optimizer changes the parameters with each step (a small lr results in small changes, a large lr results in large changes) <br />\n",
    "\n",
    "And specifically for Pytorch, we need:\n",
    "* A training loop\n",
    "* A testing loop"
   ]
  },
  {
   "cell_type": "code",
   "execution_count": 35,
   "id": "1c3adf97-172a-4130-abd7-9aa5a2e75b71",
   "metadata": {},
   "outputs": [],
   "source": [
    "# Set up a loss function\n",
    "loss_fn = nn.L1Loss()\n",
    "\n",
    "# NOTE: Before we had a very small lr=0.001 so it was not updating the weight and bias and it seemed like the model was not learning, so we put lr=0.01\n",
    "# Set up an optimizer (stochastic/random gradient descent)\n",
    "optimizer = torch.optim.SGD(params=model_0.parameters(),\n",
    "                            lr=0.01)  # learning rate = possibly the most important hyperparameter "
   ]
  },
  {
   "cell_type": "markdown",
   "id": "b70c4978-3441-46a3-88fa-dcd97429766f",
   "metadata": {},
   "source": [
    "**Q:** Which loss function should we use? <br />\n",
    "**A:** This will be problem specific. But with experience we'll get an idea of what works and what doesn't work with particular problem set <br />\n",
    "For example, in a regression problem like ours, a loss function of `nn.L1Loss()` and an optimizer like `torch.optim.SGD()` will suffice. <br />\n",
    "But for a classification problem like classifying whether a photo is of a dog or a cat, we'll likely need a loss function like `nn.BCELoss()` (Binary Cross Entropy Loss)"
   ]
  },
  {
   "cell_type": "markdown",
   "id": "96b84e4d-0356-4a66-8c92-646cf9be6d80",
   "metadata": {},
   "source": [
    "### Building a training (and a testing) loop in Pytorch\n",
    "A couple of things with need in a training loop:\n",
    "1. Loop through the data:\n",
    "2. Forward pass (this involves data moving through our model's `forward()` methods) to make predictions on data - also called as forward propagation\n",
    "3. Calculate the loss (compare forward pass predictions to ground truth labels)\n",
    "4. Optimizer zero grad\n",
    "5. Loss backward - move backwards through the network to calculate the gradients of each of the parameters of our model with respect to the loss (**backpropagation**)\n",
    "6. Optimizer step - use the optimizer to adjust our model's parameters to try and improve the loss (**gradient descent**)"
   ]
  },
  {
   "cell_type": "code",
   "execution_count": 36,
   "id": "f58f20ff-de19-4396-8c9e-ddd1b8ae1de0",
   "metadata": {},
   "outputs": [
    {
     "name": "stdout",
     "output_type": "stream",
     "text": [
      "Epoch: 0 | Loss: 0.31288138031959534 | Test loss: 0.48106518387794495\n",
      "OrderedDict({'weights': tensor([0.3406]), 'bias': tensor([0.1388])})\n",
      "Epoch: 10 | Loss: 0.1976713240146637 | Test loss: 0.3463551998138428\n",
      "OrderedDict({'weights': tensor([0.3796]), 'bias': tensor([0.2388])})\n",
      "Epoch: 20 | Loss: 0.08908725529909134 | Test loss: 0.21729660034179688\n",
      "OrderedDict({'weights': tensor([0.4184]), 'bias': tensor([0.3333])})\n",
      "Epoch: 30 | Loss: 0.053148526698350906 | Test loss: 0.14464017748832703\n",
      "OrderedDict({'weights': tensor([0.4512]), 'bias': tensor([0.3768])})\n",
      "Epoch: 40 | Loss: 0.04543796554207802 | Test loss: 0.11360953003168106\n",
      "OrderedDict({'weights': tensor([0.4748]), 'bias': tensor([0.3868])})\n",
      "Epoch: 50 | Loss: 0.04167863354086876 | Test loss: 0.09919948130846024\n",
      "OrderedDict({'weights': tensor([0.4938]), 'bias': tensor([0.3843])})\n",
      "Epoch: 60 | Loss: 0.03818932920694351 | Test loss: 0.08886633068323135\n",
      "OrderedDict({'weights': tensor([0.5116]), 'bias': tensor([0.3788])})\n",
      "Epoch: 70 | Loss: 0.03476089984178543 | Test loss: 0.0805937647819519\n",
      "OrderedDict({'weights': tensor([0.5288]), 'bias': tensor([0.3718])})\n",
      "Epoch: 80 | Loss: 0.03132382780313492 | Test loss: 0.07232122868299484\n",
      "OrderedDict({'weights': tensor([0.5459]), 'bias': tensor([0.3648])})\n",
      "Epoch: 90 | Loss: 0.02788740023970604 | Test loss: 0.06473556160926819\n",
      "OrderedDict({'weights': tensor([0.5629]), 'bias': tensor([0.3573])})\n",
      "Epoch: 100 | Loss: 0.024458957836031914 | Test loss: 0.05646304413676262\n",
      "OrderedDict({'weights': tensor([0.5800]), 'bias': tensor([0.3503])})\n",
      "Epoch: 110 | Loss: 0.021020209416747093 | Test loss: 0.04819049686193466\n",
      "OrderedDict({'weights': tensor([0.5972]), 'bias': tensor([0.3433])})\n",
      "Epoch: 120 | Loss: 0.01758546754717827 | Test loss: 0.04060482233762741\n",
      "OrderedDict({'weights': tensor([0.6141]), 'bias': tensor([0.3358])})\n",
      "Epoch: 130 | Loss: 0.014155392535030842 | Test loss: 0.03233227878808975\n",
      "OrderedDict({'weights': tensor([0.6313]), 'bias': tensor([0.3288])})\n",
      "Epoch: 140 | Loss: 0.010716588236391544 | Test loss: 0.024059748277068138\n",
      "OrderedDict({'weights': tensor([0.6485]), 'bias': tensor([0.3218])})\n",
      "Epoch: 150 | Loss: 0.0072835348546504974 | Test loss: 0.016474086791276932\n",
      "OrderedDict({'weights': tensor([0.6654]), 'bias': tensor([0.3143])})\n",
      "Epoch: 160 | Loss: 0.003851778106763959 | Test loss: 0.008201557211577892\n",
      "OrderedDict({'weights': tensor([0.6826]), 'bias': tensor([0.3073])})\n",
      "Epoch: 170 | Loss: 0.00893248151987791 | Test loss: 0.005023092031478882\n",
      "OrderedDict({'weights': tensor([0.6951]), 'bias': tensor([0.2993])})\n",
      "Epoch: 180 | Loss: 0.00893248151987791 | Test loss: 0.005023092031478882\n",
      "OrderedDict({'weights': tensor([0.6951]), 'bias': tensor([0.2993])})\n",
      "Epoch: 190 | Loss: 0.00893248151987791 | Test loss: 0.005023092031478882\n",
      "OrderedDict({'weights': tensor([0.6951]), 'bias': tensor([0.2993])})\n"
     ]
    }
   ],
   "source": [
    "torch.manual_seed(42)\n",
    "# An epoch is one loop through the data... (this is a hyperparameter because we've set it ourselves)\n",
    "epochs = 200\n",
    "\n",
    "# Tracking experiments (track different values to check our model's progress)\n",
    "epoch_count = []\n",
    "loss_values = []\n",
    "test_loss_values = []\n",
    "\n",
    "# Training Loop\n",
    "\n",
    "# 1. Loop through the data\n",
    "for epoch in range(epochs):\n",
    "    # Set the model to training mode (this is the default state of a model)\n",
    "    model_0.train()  # train mode in Pytorch sets all parameters that require gradients to require gradients\n",
    "\n",
    "    # 2. Forward pass\n",
    "    # We train our model on training data\n",
    "    y_pred = model_0(X_train)\n",
    "\n",
    "    # 3. Calculate the loss between predicted labels of training data and actual training set labels (how different are the model's predictions to the true values)\n",
    "    loss = loss_fn(y_pred, y_train)\n",
    "\n",
    "    # 4. optimizer zero grad - zero the gradients of the optimizer (they accumulate by default)\n",
    "    optimizer.zero_grad()\n",
    "\n",
    "    # 5. Perform backpropagation on the loss with respect to the parameters of the model\n",
    "    loss.backward()\n",
    "\n",
    "    # 6. Step the optimizer (perform gradient descent)\n",
    "    optimizer.step()  # by default how the optimizer changes will accumulate through the loop so... we have to zero them above in step 4. for the next iteration of the loop\n",
    "    \n",
    "    model_0.eval()  # turns off different settings in the model not need for evaluating/testing (dropout/batch norm layers)\n",
    "    with torch.inference_mode():  # turns off gradient tracking and a couple of more things behind the scenes\n",
    "        # 1. Do the forward pass\n",
    "        test_pred = model_0(X_test)\n",
    "\n",
    "        # 2. Calculate the test loss\n",
    "        test_loss = loss_fn(test_pred, y_test)\n",
    "\n",
    "    # Print out what's happening\n",
    "    if epoch % 10 == 0:\n",
    "        epoch_count.append(epoch)\n",
    "        loss_values.append(loss)\n",
    "        test_loss_values.append(test_loss)\n",
    "        print(f\"Epoch: {epoch} | Loss: {loss} | Test loss: {test_loss}\")\n",
    "    \n",
    "        # Print out model.stat_dict()\n",
    "        print(model_0.state_dict())"
   ]
  },
  {
   "cell_type": "code",
   "execution_count": 37,
   "id": "5b75e080-c335-4b4b-a7f0-a6155d650b18",
   "metadata": {},
   "outputs": [
    {
     "data": {
      "text/plain": [
       "OrderedDict([('weights', tensor([0.6990])), ('bias', tensor([0.3093]))])"
      ]
     },
     "execution_count": 37,
     "metadata": {},
     "output_type": "execute_result"
    }
   ],
   "source": [
    "model_0.state_dict()"
   ]
  },
  {
   "cell_type": "code",
   "execution_count": 38,
   "id": "fc014d18-88e2-45f8-98a7-7950c10dba34",
   "metadata": {},
   "outputs": [],
   "source": [
    "with torch.inference_mode():\n",
    "    y_pred_new = model_0(X_test)"
   ]
  },
  {
   "cell_type": "markdown",
   "id": "1d902448-4a3c-4e64-a137-3703f8230dc4",
   "metadata": {},
   "source": [
    "**NOTE:** As our `loss_values`, `epoch_count` and `test_loss_values` are on Pytorch (they are Pytorch tensors) we need to convert them into Numpy arrays to plot the loss curve using them"
   ]
  },
  {
   "cell_type": "code",
   "execution_count": 44,
   "id": "c131cc5c-7ca3-4f88-955c-9ec88b269b41",
   "metadata": {},
   "outputs": [],
   "source": [
    "np_epoch_count = torch.tensor(epoch_count).cpu().type(torch.float64).numpy()\n",
    "np_loss_values = torch.tensor(loss_values).cpu().type(torch.float64).numpy()\n",
    "np_test_loss_values = torch.tensor(test_loss_values).cpu().type(torch.float64).numpy()"
   ]
  },
  {
   "cell_type": "code",
   "execution_count": 46,
   "id": "2b399086-f5d0-4df4-a3f5-d02ecc1812f4",
   "metadata": {},
   "outputs": [
    {
     "data": {
      "image/png": "[encoded data removed]",
      "text/plain": [
       "<Figure size 640x480 with 1 Axes>"
      ]
     },
     "metadata": {},
     "output_type": "display_data"
    }
   ],
   "source": [
    "# Plot the loss curves \n",
    "plt.plot(np_epoch_count, np_loss_values, label=\"Train loss values\")\n",
    "plt.plot(np_epoch_count, np_test_loss_values, label=\"Test loss values\")\n",
    "plt.title(\"Training and test loss curves\")\n",
    "plt.ylabel(\"Loss\")\n",
    "plt.xlabel(\"Epochs\")\n",
    "plt.legend(prop={\"size\":14})\n",
    "plt.show()"
   ]
  },
  {
   "cell_type": "code",
   "execution_count": 39,
   "id": "49003eb6-d643-4efe-a6af-b79c42fbe2a0",
   "metadata": {},
   "outputs": [
    {
     "data": {
      "image/png": "[encoded data removed]",
      "text/plain": [
       "<Figure size 1000x700 with 1 Axes>"
      ]
     },
     "metadata": {},
     "output_type": "display_data"
    }
   ],
   "source": [
    "plot_predictions(predictions=y_pred_new)"
   ]
  },
  {
   "cell_type": "code",
   "execution_count": null,
   "id": "1973b69b-6b1e-48c1-8a1c-77bbbcb0576a",
   "metadata": {},
   "outputs": [],
   "source": []
  }
 ],
 "metadata": {
  "kernelspec": {
   "display_name": "Python 3 (ipykernel)",
   "language": "python",
   "name": "python3"
  },
  "language_info": {
   "codemirror_mode": {
    "name": "ipython",
    "version": 3
   },
   "file_extension": ".py",
   "mimetype": "text/x-python",
   "name": "python",
   "nbconvert_exporter": "python",
   "pygments_lexer": "ipython3",
   "version": "3.12.4"
  }
 },
 "nbformat": 4,
 "nbformat_minor": 5
}
